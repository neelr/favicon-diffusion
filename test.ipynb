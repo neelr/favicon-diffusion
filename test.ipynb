{
 "cells": [
  {
   "cell_type": "code",
   "execution_count": null,
   "metadata": {},
   "outputs": [
    {
     "name": "stdout",
     "output_type": "stream",
     "text": [
      "Sampling on device: mps\n"
     ]
    },
    {
     "name": "stderr",
     "output_type": "stream",
     "text": [
      "Sampling: 100%|██████████| 32/32 [00:00<00:00, 49.82it/s]\n"
     ]
    }
   ],
   "source": [
    "\n",
    "import torch\n",
    "import math\n",
    "from tqdm import tqdm\n",
    "import matplotlib.pyplot as plt\n",
    "from torchvision.utils import make_grid\n",
    "\n",
    "# Import model definitions (DiT and its config) from your dit.py file.\n",
    "from dit import DiT, DiTConfig\n",
    "\n",
    "# Define the same config as used in training.\n",
    "config = {\n",
    "    \"input_size\": 64,\n",
    "    \"patch_size\": 8,\n",
    "    \"in_channels\": 3,\n",
    "    \"dim\": 512,\n",
    "    \"depth\": 4,\n",
    "    \"dim_head\": 128,\n",
    "    \"mlp_mult\": 4,\n",
    "    \"time_emb_dim\": 128,\n",
    "    \"timesteps\": 32,        # NOTE: 8192 steps will be slow—consider reducing temporarily during development.\n",
    "    \"beta_start\": 1e-4,       # also used as the cosine schedule “s” shift here.\n",
    "    \"beta_end\": 0.02,\n",
    "    \"lr\": 1e-4,\n",
    "    \"batch_size\": 1,         # you can set a sampling batch size here if desired.\n",
    "    \"epochs\": 10000,\n",
    "    \"dataset_path\": \"hippo_images\"\n",
    "}\n",
    "\n",
    "device = torch.device(\"cuda\" if torch.cuda.is_available() else \"mps\")\n",
    "print(\"Sampling on device:\", device)\n",
    "\n",
    "# Define the noise schedule builder (identical to your training script).\n",
    "def get_noise_schedule(timesteps, device, s=0.008):\n",
    "    # Add one extra time step for the cumulative product.\n",
    "    steps = timesteps + 1\n",
    "    t_lin = torch.linspace(0, timesteps, steps, device=device) / timesteps\n",
    "\n",
    "    # Cosine schedule for the cumulative product.\n",
    "    alphas_cumprod = torch.cos(((t_lin + s) / (1 + s)) * (math.pi * 0.5)) ** 2\n",
    "    alphas_cumprod = alphas_cumprod / alphas_cumprod[0]\n",
    "\n",
    "    # Derive betas from the cumulative schedule.\n",
    "    betas = 1 - (alphas_cumprod[1:] / alphas_cumprod[:-1])\n",
    "    betas = torch.clamp(betas, 0, 0.999)\n",
    "    alphas = 1 - betas\n",
    "    alpha_bars = torch.cumprod(alphas, dim=0)\n",
    "    return betas, alphas, alpha_bars\n",
    "\n",
    "# (Re)build your DiT model using the same configuration.\n",
    "model_config = DiTConfig(\n",
    "    input_size=config[\"input_size\"],\n",
    "    patch_size=config[\"patch_size\"],\n",
    "    in_channels=config[\"in_channels\"],\n",
    "    dim=config[\"dim\"],\n",
    "    depth=config[\"depth\"],\n",
    "    dim_head=config[\"dim_head\"],\n",
    "    mlp_mult=config[\"mlp_mult\"],\n",
    "    time_emb_dim=config[\"time_emb_dim\"],\n",
    ")\n",
    "model = DiT(model_config).to(device)\n",
    "\n",
    "# Load your trained checkpoint (adjust the path if needed).\n",
    "checkpoint = torch.load(\"best_hippos.pt\", map_location=device)\n",
    "model.load_state_dict(checkpoint)\n",
    "model.eval()\n",
    "\n",
    "# Build the noise schedule (using beta_start as the s parameter).\n",
    "T = config[\"timesteps\"]\n",
    "betas, alphas, alpha_bars = get_noise_schedule(T, device, s=config[\"beta_start\"])\n",
    "\n",
    "# Set the number of images to generate.\n",
    "sample_batch_size = config[\"batch_size\"]\n",
    "\n",
    "# ----------------------------------------------------------------------------\n",
    "# Sampling Loop (reverse diffusion):\n",
    "# ----------------------------------------------------------------------------\n",
    "# We start from pure Gaussian noise (x_T) in the same shape as your training images.\n",
    "x = torch.randn(sample_batch_size, config[\"in_channels\"], config[\"input_size\"], config[\"input_size\"], device=device)\n",
    "\n",
    "# Here we perform T reverse diffusion steps.\n",
    "# The reverse update uses the standard DDPM formula:\n",
    "#   mu = 1/sqrt(alpha_t) * ( x_t - (beta_t/sqrt(1-alpha_bar_t))*pred_noise )\n",
    "#   x_{t-1} = mu + (sqrt(beta_t)*noise)    (if t > 0, with no noise added when t == 0)\n",
    "for t in tqdm(reversed(range(T)), total=T, desc=\"Sampling\"):\n",
    "    # Create a tensor for the current time-step (as float for the time embedding).\n",
    "    t_tensor = torch.full((sample_batch_size,), t, device=device, dtype=torch.float32)\n",
    "    \n",
    "    # Predict the noise from the current noisy image.\n",
    "    with torch.no_grad():\n",
    "        pred_noise = model(x, t_tensor)\n",
    "        \n",
    "    # Get (scalar) schedule values at time t.\n",
    "    beta_t = betas[t]\n",
    "    alpha_t = alphas[t]\n",
    "    alpha_bar_t = alpha_bars[t]\n",
    "    \n",
    "    # Compute the mean (mu) of the reverse transition.\n",
    "    sqrt_recip_alpha_t = 1.0 / torch.sqrt(alpha_t)\n",
    "    coef = beta_t / torch.sqrt(1 - alpha_bar_t)\n",
    "    mu = sqrt_recip_alpha_t * (x - coef * pred_noise)\n",
    "    \n",
    "    # For t > 0, add noise. For t == 0, no noise is added.\n",
    "    if t > 0:\n",
    "        noise = torch.randn_like(x)\n",
    "        x = mu + torch.sqrt(beta_t) * noise\n",
    "    else:\n",
    "        x = mu\n",
    "\n",
    "# ----------------------------------------------------------------------------\n",
    "# Postprocessing and display:\n",
    "# ----------------------------------------------------------------------------\n",
    "# The generated images are in the [-1, 1] range; map them back to [0, 1].\n",
    "x = (x + 1) / 2\n",
    "x = x.clamp(0, 1)\n",
    "\n",
    "# Create a grid of images for display.\n",
    "grid = make_grid(x, nrow=8)  # e.g. an 8x8 grid if sample_batch_size==64\n",
    "\n",
    "plt.figure(figsize=(1, 1))\n",
    "plt.imshow(grid.permute(1, 2, 0).cpu().numpy())\n",
    "plt.axis(\"off\")\n",
    "plt.title(\"Generated Samples\")\n",
    "plt.show()"
   ]
  },
  {
   "cell_type": "code",
   "execution_count": 2,
   "metadata": {},
   "outputs": [],
   "source": [
    "d = model.export_matrices()\n",
    "# save as matrices.json after detaching from the GPU\n",
    "d = {k: v.cpu().detach().tolist() for k, v in d.items()}\n",
    "import json\n",
    "with open('matrices.json', 'w') as f:\n",
    "    json.dump(d, f)"
   ]
  },
  {
   "cell_type": "code",
   "execution_count": 192,
   "metadata": {},
   "outputs": [
    {
     "name": "stderr",
     "output_type": "stream",
     "text": [
      "Clipping input data to the valid range for imshow with RGB data ([0..1] for floats or [0..255] for integers). Got range [-6.3959537..6.1460886].\n"
     ]
    },
    {
     "data": {
      "text/plain": [
       "<matplotlib.image.AxesImage at 0x3033637f0>"
      ]
     },
     "execution_count": 192,
     "metadata": {},
     "output_type": "execute_result"
    },
    {
     "data": {
      "image/png": "[encoded data removed]",
      "text/plain": [
       "<Figure size 640x480 with 1 Axes>"
      ]
     },
     "metadata": {},
     "output_type": "display_data"
    }
   ],
   "source": [
    "# plot x as an image\n",
    "plt.imshow(test[0].permute(1, 2, 0).cpu().detach().numpy())"
   ]
  },
  {
   "cell_type": "code",
   "execution_count": 67,
   "metadata": {},
   "outputs": [],
   "source": [
    "# convert model parameters to fp4\n",
    "model = model.half()\n",
    "model = model.to('mps')\n",
    "model = model.half()"
   ]
  },
  {
   "cell_type": "code",
   "execution_count": 2,
   "metadata": {},
   "outputs": [
    {
     "name": "stdout",
     "output_type": "stream",
     "text": [
      "x before blocks\n",
      "flattened length: torch.Size([32768])\n",
      "shape: torch.Size([1, 64, 512])\n",
      "mean: 0.4645211100578308\n",
      "std: 5.056485176086426\n",
      "min: -41.16746520996094\n",
      "max: 95.6029052734375\n",
      "first 5: tensor([ -0.1310,   2.3899, -40.2416,   1.3922,  -3.8346], device='mps:0',\n",
      "       grad_fn=<SliceBackward0>)\n",
      "time_emb before blocks\n",
      "flattened length: torch.Size([128])\n",
      "shape: torch.Size([1, 128])\n",
      "mean: -0.0012556887231767178\n",
      "std: 0.046820394694805145\n",
      "min: -0.4766673445701599\n",
      "max: 0.14884215593338013\n",
      "first 5: tensor([ 1.1143e-01,  4.2020e-04,  1.0348e-04, -4.7667e-01,  1.7279e-05],\n",
      "       device='mps:0', grad_fn=<SliceBackward0>)\n",
      "BLOCK start norm(x)\n",
      "flattened length: torch.Size([32768])\n",
      "shape: torch.Size([1, 64, 512])\n",
      "mean: -0.0005412413738667965\n",
      "std: 0.07310164719820023\n",
      "min: -1.0484009981155396\n",
      "max: 0.7694900631904602\n",
      "first 5: tensor([-1.5192e-02,  7.5625e-02, -5.3857e-01,  5.5924e-02, -3.5825e-04],\n",
      "       device='mps:0', grad_fn=<SliceBackward0>)\n",
      "x after first block\n",
      "flattened length: torch.Size([32768])\n",
      "shape: torch.Size([1, 64, 512])\n",
      "mean: 0.6124826669692993\n",
      "std: 47.04015350341797\n",
      "min: -553.41845703125\n",
      "max: 932.26953125\n",
      "first 5: tensor([ -6.9235,   0.1477, -40.6915,  -1.6037,   0.4953], device='mps:0',\n",
      "       grad_fn=<SliceBackward0>)\n",
      "BLOCK start norm(x)\n",
      "flattened length: torch.Size([32768])\n",
      "shape: torch.Size([1, 64, 512])\n",
      "mean: -0.0024007882457226515\n",
      "std: 0.12366441637277603\n",
      "min: -0.5828708410263062\n",
      "max: 1.6877391338348389\n",
      "first 5: tensor([-0.0895,  0.0537, -0.4729, -0.0184, -0.0335], device='mps:0',\n",
      "       grad_fn=<SliceBackward0>)\n",
      "BLOCK start norm(x)\n",
      "flattened length: torch.Size([32768])\n",
      "shape: torch.Size([1, 64, 512])\n",
      "mean: 0.004745305981487036\n",
      "std: 0.18194782733917236\n",
      "min: -0.8570683002471924\n",
      "max: 3.46179461479187\n",
      "first 5: tensor([ 0.0582, -0.0304, -0.7594,  0.1724, -0.0748], device='mps:0',\n",
      "       grad_fn=<SliceBackward0>)\n",
      "BLOCK start norm(x)\n",
      "flattened length: torch.Size([32768])\n",
      "shape: torch.Size([1, 64, 512])\n",
      "mean: -0.0011407870333641768\n",
      "std: 0.17506277561187744\n",
      "min: -1.259993076324463\n",
      "max: 2.516721487045288\n",
      "first 5: tensor([-0.2814,  0.7522, -0.2702, -0.0290,  0.0116], device='mps:0',\n",
      "       grad_fn=<SliceBackward0>)\n",
      "x after blocks\n",
      "flattened length: torch.Size([32768])\n",
      "shape: torch.Size([1, 64, 512])\n",
      "mean: -0.0334082692861557\n",
      "std: 77.16104125976562\n",
      "min: -892.680419921875\n",
      "max: 1292.829345703125\n",
      "first 5: tensor([ 329.4900, -412.3744,   -6.1767,   -7.2524,    3.0291], device='mps:0',\n",
      "       grad_fn=<SliceBackward0>)\n",
      "torch.Size([1, 3, 64, 64])\n",
      "Mean: 0.07545643299818039\n",
      "Std: 0.0797310620546341\n",
      "Min: -0.2401147037744522\n",
      "Max: 0.35428526997566223\n"
     ]
    }
   ],
   "source": [
    "# do a forward pass to get the matrices\n",
    "#x = torch.randn(1, 3, 64, 64).to(device)\n",
    "test = model(torch.ones((1,3,64,64)).to(device), torch.tensor([1], device=device)).detach().cpu()\n",
    "print(test.shape)\n",
    "# mean std min max\n",
    "print(f\"Mean: {test.mean()}\")\n",
    "print(f\"Std: {test.std()}\")\n",
    "print(f\"Min: {test.min()}\")\n",
    "print(f\"Max: {test.max()}\")\n"
   ]
  },
  {
   "cell_type": "code",
   "execution_count": 4,
   "metadata": {},
   "outputs": [
    {
     "data": {
      "text/plain": [
       "tensor([-0.1018,  0.0798,  0.1761,  ..., -0.0670,  0.0823,  0.0866])"
      ]
     },
     "execution_count": 4,
     "metadata": {},
     "output_type": "execute_result"
    }
   ],
   "source": [
    "x"
   ]
  },
  {
   "cell_type": "code",
   "execution_count": 10,
   "metadata": {},
   "outputs": [
    {
     "data": {
      "text/plain": [
       "tensor([-0.0248, -0.1426,  0.1138,  ...,  0.1236, -0.0263, -0.1969])"
      ]
     },
     "execution_count": 10,
     "metadata": {},
     "output_type": "execute_result"
    }
   ],
   "source": [
    "test.flatten()"
   ]
  },
  {
   "cell_type": "code",
   "execution_count": 4,
   "metadata": {},
   "outputs": [
    {
     "ename": "NameError",
     "evalue": "name 'x' is not defined",
     "output_type": "error",
     "traceback": [
      "\u001b[0;31m---------------------------------------------------------------------------\u001b[0m",
      "\u001b[0;31mNameError\u001b[0m                                 Traceback (most recent call last)",
      "Cell \u001b[0;32mIn[4], line 3\u001b[0m\n\u001b[1;32m      1\u001b[0m \u001b[38;5;28;01mfrom\u001b[39;00m\u001b[38;5;250m \u001b[39m\u001b[38;5;21;01mtorch\u001b[39;00m\u001b[38;5;21;01m.\u001b[39;00m\u001b[38;5;21;01mfunctional\u001b[39;00m\u001b[38;5;250m \u001b[39m\u001b[38;5;28;01mimport\u001b[39;00m F\n\u001b[0;32m----> 3\u001b[0m F\u001b[38;5;241m.\u001b[39mmse_loss(\u001b[43mx\u001b[49m\u001b[38;5;241m.\u001b[39mreshape(\u001b[38;5;241m1\u001b[39m, \u001b[38;5;241m3\u001b[39m, \u001b[38;5;241m64\u001b[39m, \u001b[38;5;241m64\u001b[39m), test)\n",
      "\u001b[0;31mNameError\u001b[0m: name 'x' is not defined"
     ]
    }
   ],
   "source": [
    "from torch.functional import F\n",
    "\n",
    "F.mse_loss(x.reshape(1, 3, 64, 64), test)"
   ]
  }
 ],
 "metadata": {
  "kernelspec": {
   "display_name": ".venv",
   "language": "python",
   "name": "python3"
  },
  "language_info": {
   "codemirror_mode": {
    "name": "ipython",
    "version": 3
   },
   "file_extension": ".py",
   "mimetype": "text/x-python",
   "name": "python",
   "nbconvert_exporter": "python",
   "pygments_lexer": "ipython3",
   "version": "3.9.7"
  }
 },
 "nbformat": 4,
 "nbformat_minor": 2
}
